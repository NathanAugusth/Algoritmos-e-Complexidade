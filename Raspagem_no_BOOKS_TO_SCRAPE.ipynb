{
  "nbformat": 4,
  "nbformat_minor": 0,
  "metadata": {
    "colab": {
      "provenance": [],
      "authorship_tag": "ABX9TyOpviyzlut9bMuglkDLT2F/",
      "include_colab_link": true
    },
    "kernelspec": {
      "name": "python3",
      "display_name": "Python 3"
    },
    "language_info": {
      "name": "python"
    }
  },
  "cells": [
    {
      "cell_type": "markdown",
      "metadata": {
        "id": "view-in-github",
        "colab_type": "text"
      },
      "source": [
        "<a href=\"https://colab.research.google.com/github/NathanAugusth/Algoritmos-e-Complexidade/blob/main/Raspagem_no_BOOKS_TO_SCRAPE.ipynb\" target=\"_parent\"><img src=\"https://colab.research.google.com/assets/colab-badge.svg\" alt=\"Open In Colab\"/></a>"
      ]
    },
    {
      "cell_type": "code",
      "execution_count": null,
      "metadata": {
        "id": "TuT3gTbI2GDo"
      },
      "outputs": [],
      "source": [
        "import requests\n",
        "from bs4 import BeautifulSoup\n",
        "import csv\n",
        "\n",
        "url = 'https://books.toscrape.com/'\n",
        "# Request\n",
        "response = requests.get(url)\n",
        "soup = BeautifulSoup(response.text, 'html.parser')\n",
        "books = soup.find_all('article', class_='product_pod')\n",
        "\n",
        "# Criando lista com os dados dos livros\n",
        "book_data = [\n",
        "    {\n",
        "        'Título': book.h3.a['title'],\n",
        "        'Preço': book.find('p', class_='price_color').text,\n",
        "        'Disponibilidade': book.find('p', class_='instock availability').text.strip()\n",
        "    }\n",
        "    for book in books\n",
        "]\n",
        "\n",
        "# Criando arquivo\n",
        "with open('livros.csv', 'w', newline='', encoding='utf-8') as file:\n",
        "    writer = csv.DictWriter(file, fieldnames=['Título', 'Preço', 'Disponibilidade'])\n",
        "    writer.writeheader()\n",
        "    writer.writerows(book_data)"
      ]
    }
  ]
}