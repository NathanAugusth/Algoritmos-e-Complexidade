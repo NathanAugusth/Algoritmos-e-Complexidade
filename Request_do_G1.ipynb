{
  "nbformat": 4,
  "nbformat_minor": 0,
  "metadata": {
    "colab": {
      "provenance": [],
      "authorship_tag": "ABX9TyOUc4aYwtDKWn26gt7R1FYW",
      "include_colab_link": true
    },
    "kernelspec": {
      "name": "python3",
      "display_name": "Python 3"
    },
    "language_info": {
      "name": "python"
    }
  },
  "cells": [
    {
      "cell_type": "markdown",
      "metadata": {
        "id": "view-in-github",
        "colab_type": "text"
      },
      "source": [
        "<a href=\"https://colab.research.google.com/github/NathanAugusth/Algoritmos-e-Complexidade/blob/main/Request_do_G1.ipynb\" target=\"_parent\"><img src=\"https://colab.research.google.com/assets/colab-badge.svg\" alt=\"Open In Colab\"/></a>"
      ]
    },
    {
      "cell_type": "code",
      "execution_count": null,
      "metadata": {
        "colab": {
          "base_uri": "https://localhost:8080/"
        },
        "id": "FlYmmv_TsyxT",
        "outputId": "e1f426fc-8f55-4df8-ae6f-ca6bc0f3eca0"
      },
      "outputs": [
        {
          "output_type": "stream",
          "name": "stdout",
          "text": [
            "Requirement already satisfied: requests in /usr/local/lib/python3.12/dist-packages (2.32.4)\n",
            "Requirement already satisfied: beautifulsoup4 in /usr/local/lib/python3.12/dist-packages (4.13.5)\n",
            "Requirement already satisfied: charset_normalizer<4,>=2 in /usr/local/lib/python3.12/dist-packages (from requests) (3.4.3)\n",
            "Requirement already satisfied: idna<4,>=2.5 in /usr/local/lib/python3.12/dist-packages (from requests) (3.10)\n",
            "Requirement already satisfied: urllib3<3,>=1.21.1 in /usr/local/lib/python3.12/dist-packages (from requests) (2.5.0)\n",
            "Requirement already satisfied: certifi>=2017.4.17 in /usr/local/lib/python3.12/dist-packages (from requests) (2025.8.3)\n",
            "Requirement already satisfied: soupsieve>1.2 in /usr/local/lib/python3.12/dist-packages (from beautifulsoup4) (2.8)\n",
            "Requirement already satisfied: typing-extensions>=4.0.0 in /usr/local/lib/python3.12/dist-packages (from beautifulsoup4) (4.15.0)\n"
          ]
        }
      ],
      "source": [
        "# Instalação\n",
        "!pip install requests beautifulsoup4"
      ]
    },
    {
      "cell_type": "code",
      "source": [
        "import requests\n",
        "from bs4 import BeautifulSoup\n",
        "import csv\n",
        "\n",
        "url = \"https://g1.globo.com/\"\n",
        "\n",
        "# Rrequest\n",
        "response = requests.get(url)\n",
        "soup = BeautifulSoup(response.text, \"html.parser\")\n",
        "\n",
        "# Solicitando as manchetes principais\n",
        "headlines = soup.find_all(\"a\", class_=\"feed-post-link\")\n",
        "\n",
        "# Criando o arquivo CSV\n",
        "def save_to_csv(headlines, filename=\"Títulos e Links: G1.csv\"):\n",
        "    with open(filename, mode='w', newline='', encoding='utf-8') as file:\n",
        "        writer = csv.writer(file)\n",
        "        writer.writerow([\"Número\", \"Título\", \"Link\"])\n",
        "        for i, headline in enumerate(headlines, 1):\n",
        "            title = headline.get_text().strip()\n",
        "            link = headline.get('href')\n",
        "            writer.writerow([i, title, link])\n",
        "\n",
        "print(\"Manchetes Principais do G1:\\n\")\n",
        "for i, headline in enumerate(headlines, 1):\n",
        "    title = headline.get_text().strip()\n",
        "    print(f\"{i}. {title}\")\n",
        "\n",
        "# Chamando a função para salvar os dados em CSV\n",
        "save_to_csv(headlines)\n",
        "print(f\"\\nArquivo CSV 'g1_headlines.csv' criado com sucesso!\")"
      ],
      "metadata": {
        "colab": {
          "base_uri": "https://localhost:8080/"
        },
        "id": "aikzuxsQuRIv",
        "outputId": "06b6656b-e0a4-41d7-f49a-7edc6e6af74a"
      },
      "execution_count": null,
      "outputs": [
        {
          "output_type": "stream",
          "name": "stdout",
          "text": [
            "Manchetes Principais do G1:\n",
            "\n",
            "1. Questionada sobre Bolsonaro, Casa Branca diz que Trump não teme usar 'meios militares'\n",
            "2. Bandeira dos EUA vira símbolo da direita brasileira, diz 'NY Times'\n",
            "3. Julgamento no STF\n",
            "4. Mega-Sena acumula e vai a R$ 55 milhões; veja números\n",
            "5. Dino: 'Alguém acredita que o Mickey vai mudar julgamento?'\n",
            "6. Placar do julgamento: como votou cada ministro até agora\n",
            "7. VÍDEOS: reveja o momento em que Moraes vota pela condenação\n",
            "8. Suspeito de incendiar banheiros químicos perto do STF é preso\n",
            "\n",
            "Arquivo CSV 'g1_headlines.csv' criado com sucesso!\n"
          ]
        }
      ]
    }
  ]
}